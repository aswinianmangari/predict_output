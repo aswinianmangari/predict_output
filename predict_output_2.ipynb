{
  "nbformat": 4,
  "nbformat_minor": 0,
  "metadata": {
    "colab": {
      "provenance": [],
      "authorship_tag": "ABX9TyOjO8ZmZbBAYm7lFBRuHQdb"
    },
    "kernelspec": {
      "name": "python3",
      "display_name": "Python 3"
    },
    "language_info": {
      "name": "python"
    }
  },
  "cells": [
    {
      "cell_type": "code",
      "execution_count": null,
      "metadata": {
        "colab": {
          "base_uri": "https://localhost:8080/"
        },
        "id": "hmlf9lvKZQji",
        "outputId": "3e5b42e3-9990-4ded-bb64-c8977e47461b"
      },
      "outputs": [
        {
          "output_type": "stream",
          "name": "stdout",
          "text": [
            "15 25 -5\n"
          ]
        }
      ],
      "source": [
        "a,b,c=10,20,-5\n",
        "a,b,a=a+c,b-c,b+c\n",
        "print(a,b,c)"
      ]
    },
    {
      "cell_type": "code",
      "source": [
        "s='computer science'\n",
        "print(s[2]+s[-4]+s[1:-7])"
      ],
      "metadata": {
        "colab": {
          "base_uri": "https://localhost:8080/"
        },
        "id": "xseZ1D7rZt9o",
        "outputId": "d5c830c8-b105-4d5a-e15c-cfac81f66bd5"
      },
      "execution_count": null,
      "outputs": [
        {
          "output_type": "stream",
          "name": "stdout",
          "text": [
            "meomputer \n"
          ]
        }
      ]
    },
    {
      "cell_type": "code",
      "source": [
        "import random\n",
        "VAL=[10,20,30,40,50,60,70,80]\n",
        "START=random.randint(1,3)\n",
        "STOP=random.randint(START,4)\n",
        "for x in range(START,STOP+1):\n",
        "  print(VAL[x],end='#')"
      ],
      "metadata": {
        "colab": {
          "base_uri": "https://localhost:8080/"
        },
        "id": "fFZ2U1xeaXlj",
        "outputId": "4f5c1f3b-5828-403c-d9eb-9d3baee1f7c1"
      },
      "execution_count": null,
      "outputs": [
        {
          "output_type": "stream",
          "name": "stdout",
          "text": [
            "40#50#"
          ]
        }
      ]
    },
    {
      "cell_type": "code",
      "source": [
        "def changelist(X,Y):\n",
        "  X[0]=25\n",
        "  Y=[2,3]\n",
        "L1=[-11,-21]\n",
        "L2=[14,23]\n",
        "changelist(L1,L2)\n",
        "print(L1[0],\"#\",L2[0])"
      ],
      "metadata": {
        "id": "0aUCCYDRbZqY",
        "colab": {
          "base_uri": "https://localhost:8080/"
        },
        "outputId": "4851ae3b-2a57-4a18-9428-df34f26991cb"
      },
      "execution_count": null,
      "outputs": [
        {
          "output_type": "stream",
          "name": "stdout",
          "text": [
            "25 # 14\n"
          ]
        }
      ]
    },
    {
      "cell_type": "code",
      "source": [
        "L1=[10,90,30,40,50]\n",
        "START=1\n",
        "s=0\n",
        "for c in range(START,4):\n",
        "  s=s+L1[c]\n",
        "  print(c,\":\")\n",
        "s=s+L1[0]*10\n",
        "print(s)"
      ],
      "metadata": {
        "colab": {
          "base_uri": "https://localhost:8080/"
        },
        "id": "hB1wSuJ_zNoB",
        "outputId": "1f4ca9b7-0819-41aa-a48c-26024702d721"
      },
      "execution_count": null,
      "outputs": [
        {
          "output_type": "stream",
          "name": "stdout",
          "text": [
            "1 :\n",
            "2 :\n",
            "3 :\n",
            "260\n"
          ]
        }
      ]
    },
    {
      "cell_type": "code",
      "source": [
        "mystr=\"SIMPLEQUESTIONS\"\n",
        "print(mystr.count('E',2,12))\n",
        "print(mystr.count('PL',2,12))"
      ],
      "metadata": {
        "id": "XWNXOFPwz4DZ",
        "colab": {
          "base_uri": "https://localhost:8080/"
        },
        "outputId": "5d29020b-ba4b-4b11-f3ab-838ac3518e57"
      },
      "execution_count": null,
      "outputs": [
        {
          "output_type": "stream",
          "name": "stdout",
          "text": [
            "2\n",
            "1\n"
          ]
        }
      ]
    },
    {
      "cell_type": "code",
      "source": [
        "d={'A':'ARUN','GRADE':'A'}\n",
        "print(list(d.values()))\n"
      ],
      "metadata": {
        "colab": {
          "base_uri": "https://localhost:8080/"
        },
        "id": "YOzOdFgmtsTO",
        "outputId": "6bf00c45-5409-46c5-d359-51d8e218afa9"
      },
      "execution_count": null,
      "outputs": [
        {
          "output_type": "stream",
          "name": "stdout",
          "text": [
            "['ARUN', 'A']\n"
          ]
        }
      ]
    },
    {
      "cell_type": "code",
      "source": [
        "x=25\n",
        "def modify(s,c=2):\n",
        "  global x\n",
        "  for a in s:\n",
        "    if a in 'QWEiop':\n",
        "      x//=5\n",
        "      print(a.upper(),'@',c*x)\n",
        "    else:\n",
        "      x+=5\n",
        "      print(a.lower(),'#',c+x)\n",
        "\n",
        "strA=\"Sara\"\n",
        "modify(strA,10)\n",
        "print(x,'$',strA)\n",
        "strB=\"WE\"\n",
        "modify(strB)\n",
        "print(x,'$',strB)"
      ],
      "metadata": {
        "colab": {
          "base_uri": "https://localhost:8080/"
        },
        "id": "WjLzlkgwtvEL",
        "outputId": "a5ae448a-87df-45b2-9fef-5cfa18288ec2"
      },
      "execution_count": null,
      "outputs": [
        {
          "output_type": "stream",
          "name": "stdout",
          "text": [
            "s # 40\n",
            "a # 45\n",
            "r # 50\n",
            "a # 55\n",
            "45 $ Sara\n",
            "W @ 18\n",
            "E @ 2\n",
            "1 $ WE\n"
          ]
        }
      ]
    },
    {
      "cell_type": "code",
      "source": [
        "print(5-2**2**2+99//11)"
      ],
      "metadata": {
        "colab": {
          "base_uri": "https://localhost:8080/"
        },
        "id": "wrpv2MTMt1DV",
        "outputId": "865300a9-341e-466c-e2d0-a09a844c12af"
      },
      "execution_count": null,
      "outputs": [
        {
          "output_type": "stream",
          "name": "stdout",
          "text": [
            "-2\n"
          ]
        }
      ]
    },
    {
      "cell_type": "code",
      "source": [
        "for i in \"BVRIT Hyderabad\":\n",
        "  print(i.lower(),end=\"#\")"
      ],
      "metadata": {
        "colab": {
          "base_uri": "https://localhost:8080/"
        },
        "id": "MFASoyaht6rS",
        "outputId": "973d7246-2c52-40ec-845d-78b171fd4892"
      },
      "execution_count": null,
      "outputs": [
        {
          "output_type": "stream",
          "name": "stdout",
          "text": [
            "b#v#r#i#t# #h#y#d#e#r#a#b#a#d#"
          ]
        }
      ]
    },
    {
      "cell_type": "code",
      "source": [
        "import random\n",
        "A=[20,30,40,50,60,70]\n",
        "FROM=random.randint(1,3)\n",
        "TO=random.randint(2,4)\n",
        "for k in range(FROM,TO):\n",
        "  print(A[k],end=\"#\")"
      ],
      "metadata": {
        "colab": {
          "base_uri": "https://localhost:8080/"
        },
        "id": "-HEzUoert_iJ",
        "outputId": "cb411f78-907d-47c6-f1bc-d4b1a35656e3"
      },
      "execution_count": null,
      "outputs": [
        {
          "output_type": "stream",
          "name": "stdout",
          "text": [
            "30#"
          ]
        }
      ]
    },
    {
      "cell_type": "code",
      "source": [
        "import random\n",
        "A=[20,30,40,50,60,70]\n",
        "FROM=random.randint(1,3)\n",
        "TO=random.randint(2,4)\n",
        "for k in range(FROM,TO):\n",
        "  print(A[k],end=\"#\")"
      ],
      "metadata": {
        "colab": {
          "base_uri": "https://localhost:8080/"
        },
        "id": "4iA8PjW-uI2S",
        "outputId": "83f7eff3-c3d4-4090-a3f1-118c1a7b97b3"
      },
      "execution_count": null,
      "outputs": [
        {
          "output_type": "stream",
          "name": "stdout",
          "text": [
            "30#40#"
          ]
        }
      ]
    },
    {
      "cell_type": "code",
      "source": [
        "import random as r\n",
        "print(10+r.randint(10,15),end=\" \")"
      ],
      "metadata": {
        "colab": {
          "base_uri": "https://localhost:8080/"
        },
        "id": "3T5q_5rUuaiH",
        "outputId": "ee2be720-a12e-470e-9cc4-e3ad5d2181fc"
      },
      "execution_count": null,
      "outputs": [
        {
          "output_type": "stream",
          "name": "stdout",
          "text": [
            "22 "
          ]
        }
      ]
    },
    {
      "cell_type": "code",
      "source": [
        "import random as r\n",
        "print(100+r.randint(15,25),end=\" \")\n",
        "print(100-r.randint(15,25),end=\" \")\n",
        "print(100*r.randint(15,25),end=\" \")\n",
        "\n"
      ],
      "metadata": {
        "colab": {
          "base_uri": "https://localhost:8080/"
        },
        "id": "424C5115uhkC",
        "outputId": "8a098b48-e614-493a-f8a9-3e898a609362"
      },
      "execution_count": null,
      "outputs": [
        {
          "output_type": "stream",
          "name": "stdout",
          "text": [
            "122 78 2300 "
          ]
        }
      ]
    }
  ]
}