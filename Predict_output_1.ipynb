{
  "nbformat": 4,
  "nbformat_minor": 0,
  "metadata": {
    "colab": {
      "provenance": [],
      "authorship_tag": "ABX9TyMfuuruPU8uvM2ljEC9+dJT"
    },
    "kernelspec": {
      "name": "python3",
      "display_name": "Python 3"
    },
    "language_info": {
      "name": "python"
    }
  },
  "cells": [
    {
      "cell_type": "code",
      "execution_count": null,
      "metadata": {
        "colab": {
          "base_uri": "https://localhost:8080/"
        },
        "id": "vC4ZMmDwF4rZ",
        "outputId": "05ea6bee-ecf1-49ac-d7b7-870e659ccc4b"
      },
      "outputs": [
        {
          "output_type": "stream",
          "name": "stdout",
          "text": [
            "10\n"
          ]
        }
      ],
      "source": [
        "whatif=\"The World ends today\"\n",
        "print(len(whatif)-len(\"not at all\"))"
      ]
    },
    {
      "cell_type": "code",
      "source": [
        "m=[\"Dune\",\"Jaws\",\"VP\",\"Titanic\",\"Ratatouille\"]\n",
        "print(m[-2][3]+m[-1][-1]+m[-1][-4]+m[4][-6]+m[-5][1])"
      ],
      "metadata": {
        "colab": {
          "base_uri": "https://localhost:8080/"
        },
        "id": "7rTlp_D2GLGM",
        "outputId": "7ef59ebe-a608-470a-a37c-d25456a478a5"
      },
      "execution_count": null,
      "outputs": [
        {
          "output_type": "stream",
          "name": "stdout",
          "text": [
            "aeiou\n"
          ]
        }
      ]
    },
    {
      "cell_type": "code",
      "source": [
        "strenght={\"IT\":70,\"ECE\":65,\"EEE\":75,\"AIML\":50}\n",
        "strenght.update({\"CSE\":64})\n",
        "print(strenght)\n"
      ],
      "metadata": {
        "colab": {
          "base_uri": "https://localhost:8080/"
        },
        "id": "neoyXPFTGGAH",
        "outputId": "d80c3e12-3f3e-4b77-c8cd-4bb07ee101fe"
      },
      "execution_count": null,
      "outputs": [
        {
          "output_type": "stream",
          "name": "stdout",
          "text": [
            "{'IT': 70, 'ECE': 65, 'EEE': 75, 'AIML': 50, 'CSE': 64}\n"
          ]
        }
      ]
    },
    {
      "cell_type": "code",
      "source": [
        "event='Easter at April 20'\n",
        "l=event.split(\" \")\n",
        "print(\"#\".join(l[::-2]))"
      ],
      "metadata": {
        "colab": {
          "base_uri": "https://localhost:8080/"
        },
        "id": "6p6tGIGJGQ7j",
        "outputId": "e3e201a8-b96d-49f2-a37c-8178122675dd"
      },
      "execution_count": null,
      "outputs": [
        {
          "output_type": "stream",
          "name": "stdout",
          "text": [
            "20#at\n"
          ]
        }
      ]
    },
    {
      "cell_type": "code",
      "source": [
        "name=\"college of Enginerring\"\n",
        "print(name[8:11]+\"cyc\"+name[3]+name[-3:])\n"
      ],
      "metadata": {
        "colab": {
          "base_uri": "https://localhost:8080/"
        },
        "id": "UGQ6x4xjGgVO",
        "outputId": "bf186817-72ea-46f2-8f96-2d935684f2d9"
      },
      "execution_count": null,
      "outputs": [
        {
          "output_type": "stream",
          "name": "stdout",
          "text": [
            "of cycling\n"
          ]
        }
      ]
    },
    {
      "cell_type": "code",
      "source": [
        "print(float(5+int(4.39+2.1)%2))"
      ],
      "metadata": {
        "colab": {
          "base_uri": "https://localhost:8080/"
        },
        "id": "ms4p3NIQGmYb",
        "outputId": "582b70bf-584f-480b-d1c6-188dc6765e22"
      },
      "execution_count": null,
      "outputs": [
        {
          "output_type": "stream",
          "name": "stdout",
          "text": [
            "5.0\n"
          ]
        }
      ]
    },
    {
      "cell_type": "code",
      "source": [
        "print(3*1**3)"
      ],
      "metadata": {
        "colab": {
          "base_uri": "https://localhost:8080/"
        },
        "id": "LTBqgj4DGoRi",
        "outputId": "8dd3ce7f-8b92-486b-83b4-0346cede83a8"
      },
      "execution_count": null,
      "outputs": [
        {
          "output_type": "stream",
          "name": "stdout",
          "text": [
            "3\n"
          ]
        }
      ]
    },
    {
      "cell_type": "code",
      "source": [
        "p,q=8,3\n",
        "p,q,p=p+1,q+5,p+10\n",
        "print(p,q)"
      ],
      "metadata": {
        "colab": {
          "base_uri": "https://localhost:8080/"
        },
        "id": "DMXPzdeRGr3U",
        "outputId": "ecd97eed-e79b-4d59-deca-bca9c0552fa3"
      },
      "execution_count": null,
      "outputs": [
        {
          "output_type": "stream",
          "name": "stdout",
          "text": [
            "18 8\n"
          ]
        }
      ]
    },
    {
      "cell_type": "code",
      "source": [
        "print(16//3+3**3+15/4-9)"
      ],
      "metadata": {
        "colab": {
          "base_uri": "https://localhost:8080/"
        },
        "id": "jC1OhWLfGyJ5",
        "outputId": "e1b31938-1602-472f-ee75-5fa8f3d88195"
      },
      "execution_count": null,
      "outputs": [
        {
          "output_type": "stream",
          "name": "stdout",
          "text": [
            "26.75\n"
          ]
        }
      ]
    }
  ]
}